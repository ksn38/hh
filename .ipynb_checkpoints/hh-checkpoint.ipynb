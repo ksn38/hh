{
 "cells": [
  {
   "cell_type": "code",
   "execution_count": 23,
   "metadata": {},
   "outputs": [],
   "source": [
    "import pandas as pd\n",
    "import numpy as np\n",
    "from os import listdir\n",
    "from os.path import isfile, join"
   ]
  },
  {
   "cell_type": "code",
   "execution_count": 24,
   "metadata": {},
   "outputs": [],
   "source": [
    "mypath = 'E:\\\\Temp\\\\tags\\\\'\n",
    "dirs = listdir(mypath)\n",
    "\n",
    "for j in dirs:\n",
    "    files = [i for i in listdir(mypath + j) if isfile(join(mypath + j, i))]\n",
    "    \n",
    "    for k in files:\n",
    "        df = pd.read_csv(mypath + j + '\\\\' + k)\n",
    "        df.columns = ['tag', 'val']\n",
    "        df['norm_val'] = df.val/df.val.iloc[0]\n",
    "        df[['tag', 'norm_val']].iloc[:39].to_csv('C:\\\\Users\\\\ksn\\\\fin\\\\hh\\\\' + j + '\\\\' + k, index=False, encoding='utf-8', sep=',')"
   ]
  }
 ],
 "metadata": {
  "kernelspec": {
   "display_name": "Python 3",
   "language": "python",
   "name": "python3"
  },
  "language_info": {
   "codemirror_mode": {
    "name": "ipython",
    "version": 3
   },
   "file_extension": ".py",
   "mimetype": "text/x-python",
   "name": "python",
   "nbconvert_exporter": "python",
   "pygments_lexer": "ipython3",
   "version": "3.7.8"
  }
 },
 "nbformat": 4,
 "nbformat_minor": 4
}
